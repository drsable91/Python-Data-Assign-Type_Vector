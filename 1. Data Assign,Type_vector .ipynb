{
 "cells": [
  {
   "cell_type": "markdown",
   "id": "bac6a3f6",
   "metadata": {},
   "source": [
    "# Agenda\n",
    "\n",
    "* Single And Multiple line comments\n",
    "* Variable Assign\n",
    "* Python number and go To check data type\n",
    "* To convert data type\n",
    "* Strings\n",
    "\n",
    "# Python Comments"
   ]
  },
  {
   "cell_type": "code",
   "execution_count": 2,
   "id": "3e359488",
   "metadata": {},
   "outputs": [
    {
     "name": "stdout",
     "output_type": "stream",
     "text": [
      "Hello, World!\n"
     ]
    }
   ],
   "source": [
    "print(\"Hello, World!\") #see the output"
   ]
  },
  {
   "cell_type": "code",
   "execution_count": 4,
   "id": "fab5e542",
   "metadata": {},
   "outputs": [
    {
     "name": "stdout",
     "output_type": "stream",
     "text": [
      "Hello,Digambar\n"
     ]
    }
   ],
   "source": [
    "#This is comment\n",
    "#written in\n",
    "#more than just one line\n",
    "print(\"Hello,Digambar\")  #fggggf\n",
    "#single line comment"
   ]
  },
  {
   "cell_type": "code",
   "execution_count": 6,
   "id": "58e9d310",
   "metadata": {},
   "outputs": [
    {
     "name": "stdout",
     "output_type": "stream",
     "text": [
      "Hello,World\n"
     ]
    }
   ],
   "source": [
    "\"\"\"\n",
    "This is comment\n",
    "written in\n",
    "more than just one line\n",
    "Multiline comment\n",
    "\"\"\"\n",
    "print(\"Hello,World\")\n"
   ]
  },
  {
   "cell_type": "markdown",
   "id": "3798ec42",
   "metadata": {},
   "source": [
    "# Variable Assign"
   ]
  },
  {
   "cell_type": "code",
   "execution_count": 8,
   "id": "2ff0154b",
   "metadata": {},
   "outputs": [
    {
     "name": "stdout",
     "output_type": "stream",
     "text": [
      "John\n"
     ]
    }
   ],
   "source": [
    "x=5 #number\n",
    "y=\"John\" #String variable can be declared either\n",
    "#by using single or double quotes:\n",
    "print(y)"
   ]
  },
  {
   "cell_type": "code",
   "execution_count": 9,
   "id": "c732a69b",
   "metadata": {},
   "outputs": [
    {
     "data": {
      "text/plain": [
       "'John'"
      ]
     },
     "execution_count": 9,
     "metadata": {},
     "output_type": "execute_result"
    }
   ],
   "source": [
    "y"
   ]
  },
  {
   "cell_type": "code",
   "execution_count": 10,
   "id": "ee8b2c3e",
   "metadata": {},
   "outputs": [
    {
     "data": {
      "text/plain": [
       "5"
      ]
     },
     "execution_count": 10,
     "metadata": {},
     "output_type": "execute_result"
    }
   ],
   "source": [
    "x"
   ]
  },
  {
   "cell_type": "code",
   "execution_count": 11,
   "id": "be5a1058",
   "metadata": {},
   "outputs": [],
   "source": [
    "x=3"
   ]
  },
  {
   "cell_type": "code",
   "execution_count": 12,
   "id": "e5976d82",
   "metadata": {},
   "outputs": [
    {
     "data": {
      "text/plain": [
       "3"
      ]
     },
     "execution_count": 12,
     "metadata": {},
     "output_type": "execute_result"
    }
   ],
   "source": [
    "x"
   ]
  },
  {
   "cell_type": "code",
   "execution_count": 24,
   "id": "71e667ac",
   "metadata": {},
   "outputs": [
    {
     "name": "stdout",
     "output_type": "stream",
     "text": [
      "3\n"
     ]
    }
   ],
   "source": [
    "print(x)"
   ]
  },
  {
   "cell_type": "code",
   "execution_count": 25,
   "id": "510564a5",
   "metadata": {},
   "outputs": [
    {
     "name": "stdout",
     "output_type": "stream",
     "text": [
      "abc\n"
     ]
    }
   ],
   "source": [
    "x=\"John\"\n",
    "x='abc'\n",
    "print(x)"
   ]
  },
  {
   "cell_type": "code",
   "execution_count": 28,
   "id": "44d1dd98",
   "metadata": {},
   "outputs": [
    {
     "data": {
      "text/plain": [
       "[1, 2, 3, 4]"
      ]
     },
     "execution_count": 28,
     "metadata": {},
     "output_type": "execute_result"
    }
   ],
   "source": [
    "[1,2,3,4]"
   ]
  },
  {
   "cell_type": "code",
   "execution_count": 29,
   "id": "a132e431",
   "metadata": {},
   "outputs": [],
   "source": [
    "x=[21,22,23,24]"
   ]
  },
  {
   "cell_type": "code",
   "execution_count": 30,
   "id": "cd380624",
   "metadata": {
    "scrolled": true
   },
   "outputs": [
    {
     "data": {
      "text/plain": [
       "[21, 22, 23, 24]"
      ]
     },
     "execution_count": 30,
     "metadata": {},
     "output_type": "execute_result"
    }
   ],
   "source": [
    "x"
   ]
  },
  {
   "cell_type": "code",
   "execution_count": 32,
   "id": "8bb23d23",
   "metadata": {},
   "outputs": [
    {
     "name": "stdout",
     "output_type": "stream",
     "text": [
      "[21, 22, 23, 24]\n"
     ]
    }
   ],
   "source": [
    "print(x)"
   ]
  },
  {
   "cell_type": "markdown",
   "id": "4f3d50d5",
   "metadata": {},
   "source": [
    "# Assign Value to Multiple Variables\n",
    "\n",
    "Python allows you to assign values to multiple variables in one line:"
   ]
  },
  {
   "cell_type": "code",
   "execution_count": 15,
   "id": "7afb1936",
   "metadata": {},
   "outputs": [
    {
     "name": "stdout",
     "output_type": "stream",
     "text": [
      "Orange\n",
      "Banana\n",
      "Cherry\n"
     ]
    }
   ],
   "source": [
    "x,y,z = \"Orange\",\"Banana\",\"Cherry\"\n",
    "print(x)\n",
    "print(y)\n",
    "print(z)"
   ]
  },
  {
   "cell_type": "code",
   "execution_count": 18,
   "id": "96a2d239",
   "metadata": {
    "scrolled": true
   },
   "outputs": [
    {
     "data": {
      "text/plain": [
       "('Orange', 'Banana', 'Cherry')"
      ]
     },
     "execution_count": 18,
     "metadata": {},
     "output_type": "execute_result"
    }
   ],
   "source": [
    "x,y,z"
   ]
  },
  {
   "cell_type": "markdown",
   "id": "16201ba9",
   "metadata": {},
   "source": [
    "# Python Numbers\n",
    "\n",
    "There are three numeric\n",
    "* int\n",
    "* float\n",
    "* complex"
   ]
  },
  {
   "cell_type": "code",
   "execution_count": 20,
   "id": "674d08f5",
   "metadata": {},
   "outputs": [],
   "source": [
    "x=10\n",
    "y=2.8\n",
    "z=1j"
   ]
  },
  {
   "cell_type": "code",
   "execution_count": 11,
   "id": "1cd37bb1",
   "metadata": {},
   "outputs": [
    {
     "data": {
      "text/plain": [
       "(2.8, 10, 1j)"
      ]
     },
     "execution_count": 11,
     "metadata": {},
     "output_type": "execute_result"
    }
   ],
   "source": [
    "y,x,z"
   ]
  },
  {
   "cell_type": "markdown",
   "id": "97f691e9",
   "metadata": {},
   "source": [
    "# To check data type"
   ]
  },
  {
   "cell_type": "code",
   "execution_count": 21,
   "id": "bd344130",
   "metadata": {},
   "outputs": [
    {
     "name": "stdout",
     "output_type": "stream",
     "text": [
      "<class 'int'>\n",
      "<class 'float'>\n",
      "<class 'complex'>\n"
     ]
    }
   ],
   "source": [
    "print(type(x))\n",
    "print(type(y))\n",
    "print(type(z))"
   ]
  },
  {
   "cell_type": "markdown",
   "id": "1a74ee7c",
   "metadata": {},
   "source": [
    "# Int\n",
    "\n",
    "Int, or integer, is a whole number, positiveor negatiove, without decimal,of unlimited learning."
   ]
  },
  {
   "cell_type": "code",
   "execution_count": 13,
   "id": "3cd62570",
   "metadata": {},
   "outputs": [
    {
     "name": "stdout",
     "output_type": "stream",
     "text": [
      "<class 'int'>\n",
      "<class 'int'>\n",
      "<class 'int'>\n"
     ]
    }
   ],
   "source": [
    "x=1\n",
    "y=7057404230\n",
    "z =-32\n",
    "\n",
    "print(type(x))\n",
    "print(type(y))\n",
    "print(type(z))"
   ]
  },
  {
   "cell_type": "markdown",
   "id": "5a3db817",
   "metadata": {},
   "source": [
    "# Float"
   ]
  },
  {
   "cell_type": "code",
   "execution_count": 16,
   "id": "33f16e96",
   "metadata": {},
   "outputs": [
    {
     "name": "stdout",
     "output_type": "stream",
     "text": [
      "<class 'float'>\n",
      "<class 'float'>\n",
      "<class 'float'>\n"
     ]
    }
   ],
   "source": [
    "x=1.10\n",
    "y=1.0\n",
    "z=-35.23\n",
    "\n",
    "print(type(x))\n",
    "print(type(y))\n",
    "print(type(z))"
   ]
  },
  {
   "cell_type": "markdown",
   "id": "6aff7683",
   "metadata": {},
   "source": [
    "# Float can also be scientific numbers with an \"e\" to indicate 10."
   ]
  },
  {
   "cell_type": "code",
   "execution_count": 22,
   "id": "1ad97c0b",
   "metadata": {},
   "outputs": [
    {
     "name": "stdout",
     "output_type": "stream",
     "text": [
      "350.0\n",
      "3.5\n",
      "120000.0\n",
      "<class 'float'>\n",
      "<class 'float'>\n",
      "<class 'float'>\n"
     ]
    }
   ],
   "source": [
    "x=35e1\n",
    "y=35e-1\n",
    "z=12e4\n",
    "\n",
    "print(x)\n",
    "print(y)\n",
    "print(z)\n",
    "\n",
    "print(type(x))\n",
    "print(type(y))\n",
    "print(type(z))"
   ]
  },
  {
   "cell_type": "markdown",
   "id": "9c4c7453",
   "metadata": {},
   "source": [
    "# Complex\n",
    "\n",
    "Complex number are written with a\"j\" as the imaginary part:"
   ]
  },
  {
   "cell_type": "code",
   "execution_count": 18,
   "id": "649b02ef",
   "metadata": {},
   "outputs": [
    {
     "name": "stdout",
     "output_type": "stream",
     "text": [
      "<class 'complex'>\n",
      "<class 'complex'>\n",
      "<class 'complex'>\n"
     ]
    }
   ],
   "source": [
    "x=3+5j\n",
    "y=5j\n",
    "z=-5j\n",
    "\n",
    "print(type(x))\n",
    "print(type(y))\n",
    "print(type(z))"
   ]
  },
  {
   "cell_type": "markdown",
   "id": "d1f48b6e",
   "metadata": {},
   "source": [
    "# Type Conversion\n",
    "\n",
    "You can convert from one type to another with the int(),float() and complex() method"
   ]
  },
  {
   "cell_type": "code",
   "execution_count": 19,
   "id": "2f8cffee",
   "metadata": {},
   "outputs": [
    {
     "name": "stdout",
     "output_type": "stream",
     "text": [
      "<class 'int'>\n",
      "<class 'float'>\n",
      "1.0\n"
     ]
    }
   ],
   "source": [
    "x=1     #Int to float\n",
    "print(type(x))\n",
    "a=float(x)\n",
    "print(type(a))\n",
    "print(a)"
   ]
  },
  {
   "cell_type": "code",
   "execution_count": 17,
   "id": "a2cedec9",
   "metadata": {
    "scrolled": true
   },
   "outputs": [
    {
     "name": "stdout",
     "output_type": "stream",
     "text": [
      "<class 'float'>\n",
      "<class 'int'>\n",
      "10\n"
     ]
    }
   ],
   "source": [
    "x=10.3 # Float to int\n",
    "print(type(x))\n",
    "a=int(x) \n",
    "print(type(a))\n",
    "print(a)"
   ]
  },
  {
   "cell_type": "code",
   "execution_count": 35,
   "id": "1d144417",
   "metadata": {},
   "outputs": [
    {
     "data": {
      "text/plain": [
       "'Hello'"
      ]
     },
     "execution_count": 35,
     "metadata": {},
     "output_type": "execute_result"
    }
   ],
   "source": [
    "a=\"Hello\"\n",
    "a"
   ]
  },
  {
   "cell_type": "markdown",
   "id": "a819c3b1",
   "metadata": {},
   "source": [
    "* String are Array\n",
    "* Get the character at position 1 (remember that the first character as the )"
   ]
  },
  {
   "cell_type": "code",
   "execution_count": 37,
   "id": "cbe93d5b",
   "metadata": {},
   "outputs": [
    {
     "name": "stdout",
     "output_type": "stream",
     "text": [
      ",\n"
     ]
    }
   ],
   "source": [
    "a = \"Hello, World!\"\n",
    "print(a[5])"
   ]
  },
  {
   "cell_type": "code",
   "execution_count": 38,
   "id": "f9dda8b5",
   "metadata": {},
   "outputs": [
    {
     "name": "stdout",
     "output_type": "stream",
     "text": [
      "Hell\n"
     ]
    }
   ],
   "source": [
    "b=\"Hello\"\n",
    "print(b[0:4])"
   ]
  },
  {
   "cell_type": "markdown",
   "id": "459fc40f",
   "metadata": {},
   "source": [
    "* The len() method returns the length of string"
   ]
  },
  {
   "cell_type": "code",
   "execution_count": 39,
   "id": "2825ecd5",
   "metadata": {},
   "outputs": [
    {
     "data": {
      "text/plain": [
       "8"
      ]
     },
     "execution_count": 39,
     "metadata": {},
     "output_type": "execute_result"
    }
   ],
   "source": [
    "a=\"Digambar\"\n",
    "len(a)"
   ]
  },
  {
   "cell_type": "markdown",
   "id": "241f57a1",
   "metadata": {},
   "source": [
    "* The lower method returns the String in lower case"
   ]
  },
  {
   "cell_type": "code",
   "execution_count": 42,
   "id": "a7d2a69e",
   "metadata": {},
   "outputs": [
    {
     "name": "stdout",
     "output_type": "stream",
     "text": [
      "hellow world!\n"
     ]
    }
   ],
   "source": [
    "a=\"Hellow World!\"\n",
    "print(a.lower())"
   ]
  },
  {
   "cell_type": "markdown",
   "id": "8873fc4c",
   "metadata": {},
   "source": [
    "* The upper method returns the string in upper case"
   ]
  },
  {
   "cell_type": "code",
   "execution_count": 1,
   "id": "8881b968",
   "metadata": {},
   "outputs": [
    {
     "name": "stdout",
     "output_type": "stream",
     "text": [
      "HELLOW, WORLD!\n"
     ]
    }
   ],
   "source": [
    "a=\"Hellow, World!\"\n",
    "print(a.upper())"
   ]
  },
  {
   "cell_type": "markdown",
   "id": "c3af3cad",
   "metadata": {},
   "source": [
    "* The replace() method returns the string in upper case"
   ]
  },
  {
   "cell_type": "code",
   "execution_count": 44,
   "id": "77c21a2d",
   "metadata": {},
   "outputs": [
    {
     "name": "stdout",
     "output_type": "stream",
     "text": [
      "Jello World!\n"
     ]
    }
   ],
   "source": [
    "a=\"Hello World!\"\n",
    "print(a.replace(\"H\",\"J\"))"
   ]
  },
  {
   "cell_type": "markdown",
   "id": "226ad3c0",
   "metadata": {},
   "source": [
    "# Command-line String Input"
   ]
  },
  {
   "cell_type": "code",
   "execution_count": 2,
   "id": "bf46f03e",
   "metadata": {},
   "outputs": [
    {
     "name": "stdout",
     "output_type": "stream",
     "text": [
      "Digu\n",
      "Hello Digu\n"
     ]
    }
   ],
   "source": [
    "x=input()\n",
    "print(\"Hello\",x)"
   ]
  },
  {
   "cell_type": "code",
   "execution_count": null,
   "id": "38f67fd2",
   "metadata": {},
   "outputs": [],
   "source": []
  }
 ],
 "metadata": {
  "kernelspec": {
   "display_name": "Python 3 (ipykernel)",
   "language": "python",
   "name": "python3"
  },
  "language_info": {
   "codemirror_mode": {
    "name": "ipython",
    "version": 3
   },
   "file_extension": ".py",
   "mimetype": "text/x-python",
   "name": "python",
   "nbconvert_exporter": "python",
   "pygments_lexer": "ipython3",
   "version": "3.9.7"
  }
 },
 "nbformat": 4,
 "nbformat_minor": 5
}
